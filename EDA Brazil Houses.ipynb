{
 "cells": [
  {
   "cell_type": "code",
   "execution_count": 1,
   "id": "eb593858",
   "metadata": {},
   "outputs": [],
   "source": [
    " import matplotlib.pyplot as plt           \n",
    "from tabulate import tabulate              \n",
    "import matplotlib as mat               \n",
    "import seaborn as sns                    \n",
    "import pandas as pd                        \n",
    "import numpy as np  \n"
   ]
  },
  {
   "cell_type": "code",
   "execution_count": 2,
   "id": "6b053446",
   "metadata": {},
   "outputs": [
    {
     "data": {
      "text/html": [
       "<div>\n",
       "<style scoped>\n",
       "    .dataframe tbody tr th:only-of-type {\n",
       "        vertical-align: middle;\n",
       "    }\n",
       "\n",
       "    .dataframe tbody tr th {\n",
       "        vertical-align: top;\n",
       "    }\n",
       "\n",
       "    .dataframe thead th {\n",
       "        text-align: right;\n",
       "    }\n",
       "</style>\n",
       "<table border=\"1\" class=\"dataframe\">\n",
       "  <thead>\n",
       "    <tr style=\"text-align: right;\">\n",
       "      <th></th>\n",
       "      <th>city</th>\n",
       "      <th>area</th>\n",
       "      <th>rooms</th>\n",
       "      <th>bathroom</th>\n",
       "      <th>parking spaces</th>\n",
       "      <th>floor</th>\n",
       "      <th>animal</th>\n",
       "      <th>furniture</th>\n",
       "      <th>hoa (R$)</th>\n",
       "      <th>rent amount (R$)</th>\n",
       "      <th>property tax (R$)</th>\n",
       "      <th>fire insurance (R$)</th>\n",
       "      <th>total (R$)</th>\n",
       "    </tr>\n",
       "  </thead>\n",
       "  <tbody>\n",
       "    <tr>\n",
       "      <th>0</th>\n",
       "      <td>São Paulo</td>\n",
       "      <td>70</td>\n",
       "      <td>2</td>\n",
       "      <td>1</td>\n",
       "      <td>1</td>\n",
       "      <td>7</td>\n",
       "      <td>acept</td>\n",
       "      <td>furnished</td>\n",
       "      <td>2065</td>\n",
       "      <td>3300</td>\n",
       "      <td>211</td>\n",
       "      <td>42</td>\n",
       "      <td>5618</td>\n",
       "    </tr>\n",
       "    <tr>\n",
       "      <th>1</th>\n",
       "      <td>São Paulo</td>\n",
       "      <td>320</td>\n",
       "      <td>4</td>\n",
       "      <td>4</td>\n",
       "      <td>0</td>\n",
       "      <td>20</td>\n",
       "      <td>acept</td>\n",
       "      <td>not furnished</td>\n",
       "      <td>1200</td>\n",
       "      <td>4960</td>\n",
       "      <td>1750</td>\n",
       "      <td>63</td>\n",
       "      <td>7973</td>\n",
       "    </tr>\n",
       "    <tr>\n",
       "      <th>2</th>\n",
       "      <td>Porto Alegre</td>\n",
       "      <td>80</td>\n",
       "      <td>1</td>\n",
       "      <td>1</td>\n",
       "      <td>1</td>\n",
       "      <td>6</td>\n",
       "      <td>acept</td>\n",
       "      <td>not furnished</td>\n",
       "      <td>1000</td>\n",
       "      <td>2800</td>\n",
       "      <td>0</td>\n",
       "      <td>41</td>\n",
       "      <td>3841</td>\n",
       "    </tr>\n",
       "    <tr>\n",
       "      <th>3</th>\n",
       "      <td>Porto Alegre</td>\n",
       "      <td>51</td>\n",
       "      <td>2</td>\n",
       "      <td>1</td>\n",
       "      <td>0</td>\n",
       "      <td>2</td>\n",
       "      <td>acept</td>\n",
       "      <td>not furnished</td>\n",
       "      <td>270</td>\n",
       "      <td>1112</td>\n",
       "      <td>22</td>\n",
       "      <td>17</td>\n",
       "      <td>1421</td>\n",
       "    </tr>\n",
       "    <tr>\n",
       "      <th>4</th>\n",
       "      <td>São Paulo</td>\n",
       "      <td>25</td>\n",
       "      <td>1</td>\n",
       "      <td>1</td>\n",
       "      <td>0</td>\n",
       "      <td>1</td>\n",
       "      <td>not acept</td>\n",
       "      <td>not furnished</td>\n",
       "      <td>0</td>\n",
       "      <td>800</td>\n",
       "      <td>25</td>\n",
       "      <td>11</td>\n",
       "      <td>836</td>\n",
       "    </tr>\n",
       "  </tbody>\n",
       "</table>\n",
       "</div>"
      ],
      "text/plain": [
       "           city  area  rooms  bathroom  parking spaces  floor     animal  \\\n",
       "0     São Paulo    70      2         1               1      7      acept   \n",
       "1     São Paulo   320      4         4               0     20      acept   \n",
       "2  Porto Alegre    80      1         1               1      6      acept   \n",
       "3  Porto Alegre    51      2         1               0      2      acept   \n",
       "4     São Paulo    25      1         1               0      1  not acept   \n",
       "\n",
       "       furniture  hoa (R$)  rent amount (R$)  property tax (R$)  \\\n",
       "0      furnished      2065              3300                211   \n",
       "1  not furnished      1200              4960               1750   \n",
       "2  not furnished      1000              2800                  0   \n",
       "3  not furnished       270              1112                 22   \n",
       "4  not furnished         0               800                 25   \n",
       "\n",
       "   fire insurance (R$)  total (R$)  \n",
       "0                   42        5618  \n",
       "1                   63        7973  \n",
       "2                   41        3841  \n",
       "3                   17        1421  \n",
       "4                   11         836  "
      ]
     },
     "execution_count": 2,
     "metadata": {},
     "output_type": "execute_result"
    }
   ],
   "source": [
    "df=pd.read_csv(\"C:/Users/Lenovo/Downloads/data (1).csv\")\n",
    "df.head()"
   ]
  },
  {
   "cell_type": "code",
   "execution_count": 3,
   "id": "19e77752",
   "metadata": {},
   "outputs": [
    {
     "data": {
      "text/plain": [
       "city                   0\n",
       "area                   0\n",
       "rooms                  0\n",
       "bathroom               0\n",
       "parking spaces         0\n",
       "floor                  0\n",
       "animal                 0\n",
       "furniture              0\n",
       "hoa (R$)               0\n",
       "rent amount (R$)       0\n",
       "property tax (R$)      0\n",
       "fire insurance (R$)    0\n",
       "total (R$)             0\n",
       "dtype: int64"
      ]
     },
     "execution_count": 3,
     "metadata": {},
     "output_type": "execute_result"
    }
   ],
   "source": [
    "df.isnull().sum()"
   ]
  },
  {
   "cell_type": "code",
   "execution_count": 4,
   "id": "e126f637",
   "metadata": {
    "scrolled": true
   },
   "outputs": [
    {
     "name": "stdout",
     "output_type": "stream",
     "text": [
      "<class 'pandas.core.frame.DataFrame'>\n",
      "RangeIndex: 10692 entries, 0 to 10691\n",
      "Data columns (total 13 columns):\n",
      " #   Column               Non-Null Count  Dtype \n",
      "---  ------               --------------  ----- \n",
      " 0   city                 10692 non-null  object\n",
      " 1   area                 10692 non-null  int64 \n",
      " 2   rooms                10692 non-null  int64 \n",
      " 3   bathroom             10692 non-null  int64 \n",
      " 4   parking spaces       10692 non-null  int64 \n",
      " 5   floor                10692 non-null  int64 \n",
      " 6   animal               10692 non-null  object\n",
      " 7   furniture            10692 non-null  object\n",
      " 8   hoa (R$)             10692 non-null  int64 \n",
      " 9   rent amount (R$)     10692 non-null  int64 \n",
      " 10  property tax (R$)    10692 non-null  int64 \n",
      " 11  fire insurance (R$)  10692 non-null  int64 \n",
      " 12  total (R$)           10692 non-null  int64 \n",
      "dtypes: int64(10), object(3)\n",
      "memory usage: 1.1+ MB\n"
     ]
    }
   ],
   "source": [
    "df.info()"
   ]
  },
  {
   "cell_type": "markdown",
   "id": "33ee9d79",
   "metadata": {},
   "source": [
    "# Analyse on the basis of Area"
   ]
  },
  {
   "cell_type": "markdown",
   "id": "f3e4d324",
   "metadata": {},
   "source": [
    "# Outliars removing"
   ]
  },
  {
   "cell_type": "code",
   "execution_count": 8,
   "id": "dc86f2ff",
   "metadata": {},
   "outputs": [
    {
     "data": {
      "text/plain": [
       "<AxesSubplot:xlabel='area'>"
      ]
     },
     "execution_count": 8,
     "metadata": {},
     "output_type": "execute_result"
    },
    {
     "data": {
      "image/png": "[encoded data removed]",
      "text/plain": [
       "<Figure size 432x288 with 1 Axes>"
      ]
     },
     "metadata": {
      "needs_background": "light"
     },
     "output_type": "display_data"
    }
   ],
   "source": [
    "sns.boxplot(x = df[\"area\"], color = \"g\") "
   ]
  },
  {
   "cell_type": "code",
   "execution_count": 9,
   "id": "63c10fe4",
   "metadata": {},
   "outputs": [],
   "source": [
    "mean = int(df.area.mean())\n",
    "x = df[df[\"area\"] >mean].index\n",
    "for index in x:\n",
    "    df.loc[index, \"area\"] = mean"
   ]
  },
  {
   "cell_type": "code",
   "execution_count": 10,
   "id": "9d13b3e6",
   "metadata": {},
   "outputs": [
    {
     "data": {
      "image/png": "[encoded data removed]",
      "text/plain": [
       "<Figure size 720x504 with 2 Axes>"
      ]
     },
     "metadata": {
      "needs_background": "light"
     },
     "output_type": "display_data"
    }
   ],
   "source": [
    "fig, ax = plt.subplots(1, 2, figsize= (10, 7)) \n",
    "sns.histplot(x = df[\"area\"], ax =ax[1], color = \"m\")\n",
    "sns.boxplot(x = df[\"area\"], ax = ax[0], color = \"g\") \n",
    "plt.show()"
   ]
  },
  {
   "cell_type": "code",
   "execution_count": 38,
   "id": "359111be",
   "metadata": {},
   "outputs": [
    {
     "data": {
      "text/plain": [
       "<AxesSubplot:xlabel='city', ylabel='count'>"
      ]
     },
     "execution_count": 38,
     "metadata": {},
     "output_type": "execute_result"
    },
    {
     "data": {
      "image/png": "[encoded data removed]",
      "text/plain": [
       "<Figure size 432x288 with 1 Axes>"
      ]
     },
     "metadata": {
      "needs_background": "light"
     },
     "output_type": "display_data"
    }
   ],
   "source": [
    "Area=df[df['area']<150]\n",
    "sns.countplot(x=Area['city'])"
   ]
  },
  {
   "cell_type": "markdown",
   "id": "2bd9f3d1",
   "metadata": {},
   "source": [
    "### Availability of peoperties locate in Sao Paulo is  in majority for small families"
   ]
  },
  {
   "cell_type": "code",
   "execution_count": 39,
   "id": "8905e922",
   "metadata": {},
   "outputs": [
    {
     "data": {
      "text/html": [
       "<div>\n",
       "<style scoped>\n",
       "    .dataframe tbody tr th:only-of-type {\n",
       "        vertical-align: middle;\n",
       "    }\n",
       "\n",
       "    .dataframe tbody tr th {\n",
       "        vertical-align: top;\n",
       "    }\n",
       "\n",
       "    .dataframe thead th {\n",
       "        text-align: right;\n",
       "    }\n",
       "</style>\n",
       "<table border=\"1\" class=\"dataframe\">\n",
       "  <thead>\n",
       "    <tr style=\"text-align: right;\">\n",
       "      <th></th>\n",
       "      <th>total (R$)</th>\n",
       "    </tr>\n",
       "    <tr>\n",
       "      <th>city</th>\n",
       "      <th></th>\n",
       "    </tr>\n",
       "  </thead>\n",
       "  <tbody>\n",
       "    <tr>\n",
       "      <th>Belo Horizonte</th>\n",
       "      <td>6315.242448</td>\n",
       "    </tr>\n",
       "    <tr>\n",
       "      <th>Campinas</th>\n",
       "      <td>3173.276671</td>\n",
       "    </tr>\n",
       "    <tr>\n",
       "      <th>Porto Alegre</th>\n",
       "      <td>2989.782900</td>\n",
       "    </tr>\n",
       "    <tr>\n",
       "      <th>Rio de Janeiro</th>\n",
       "      <td>4611.684877</td>\n",
       "    </tr>\n",
       "    <tr>\n",
       "      <th>São Paulo</th>\n",
       "      <td>6380.831833</td>\n",
       "    </tr>\n",
       "  </tbody>\n",
       "</table>\n",
       "</div>"
      ],
      "text/plain": [
       "                 total (R$)\n",
       "city                       \n",
       "Belo Horizonte  6315.242448\n",
       "Campinas        3173.276671\n",
       "Porto Alegre    2989.782900\n",
       "Rio de Janeiro  4611.684877\n",
       "São Paulo       6380.831833"
      ]
     },
     "execution_count": 39,
     "metadata": {},
     "output_type": "execute_result"
    },
    {
     "data": {
      "image/png": "[encoded data removed]",
      "text/plain": [
       "<Figure size 432x432 with 1 Axes>"
      ]
     },
     "metadata": {
      "needs_background": "light"
     },
     "output_type": "display_data"
    }
   ],
   "source": [
    "sns.catplot(data = Area, x= 'city', y= 'total (R$)', kind = 'bar',\n",
    "            ci= None,height=6,estimator=np.mean);\n",
    "pd.DataFrame(Area.groupby('city')['total (R$)'].mean())"
   ]
  },
  {
   "cell_type": "markdown",
   "id": "3a23683c",
   "metadata": {},
   "source": [
    "### Sao Paulo and Belo Horizonte city employees can look for other city as per Average  Total Cost."
   ]
  },
  {
   "cell_type": "markdown",
   "id": "3ac5755c",
   "metadata": {},
   "source": [
    "# Analysis on the basis of floors"
   ]
  },
  {
   "cell_type": "code",
   "execution_count": 13,
   "id": "41af7c0e",
   "metadata": {},
   "outputs": [
    {
     "data": {
      "text/plain": [
       "<AxesSubplot:xlabel='rooms'>"
      ]
     },
     "execution_count": 13,
     "metadata": {},
     "output_type": "execute_result"
    },
    {
     "data": {
      "image/png": "[encoded data removed]",
      "text/plain": [
       "<Figure size 432x288 with 1 Axes>"
      ]
     },
     "metadata": {
      "needs_background": "light"
     },
     "output_type": "display_data"
    }
   ],
   "source": [
    "sns.boxplot(x = df[\"rooms\"], color = \"g\") "
   ]
  },
  {
   "cell_type": "markdown",
   "id": "7b9c2a36",
   "metadata": {},
   "source": [
    "# Outliars removing"
   ]
  },
  {
   "cell_type": "code",
   "execution_count": 14,
   "id": "63fd3aab",
   "metadata": {},
   "outputs": [],
   "source": [
    "mean = int(df.rooms.mean())\n",
    "x = df[df[\"rooms\"] >5].index\n",
    "for index in x:\n",
    "    df.loc[index, \"rooms\"] = mean"
   ]
  },
  {
   "cell_type": "code",
   "execution_count": 15,
   "id": "e49481c5",
   "metadata": {},
   "outputs": [
    {
     "data": {
      "image/png": "[encoded data removed]",
      "text/plain": [
       "<Figure size 1440x504 with 2 Axes>"
      ]
     },
     "metadata": {
      "needs_background": "light"
     },
     "output_type": "display_data"
    }
   ],
   "source": [
    "fig, ax = plt.subplots(1, 2, figsize= (20, 7)) \n",
    "sns.histplot(x = df[\"rooms\"], ax =ax[1], color = \"m\")\n",
    "sns.boxplot(x = df[\"rooms\"], ax = ax[0], color = \"g\") \n",
    "plt.show()"
   ]
  },
  {
   "cell_type": "code",
   "execution_count": 42,
   "id": "331ae62d",
   "metadata": {},
   "outputs": [
    {
     "data": {
      "text/html": [
       "<div>\n",
       "<style scoped>\n",
       "    .dataframe tbody tr th:only-of-type {\n",
       "        vertical-align: middle;\n",
       "    }\n",
       "\n",
       "    .dataframe tbody tr th {\n",
       "        vertical-align: top;\n",
       "    }\n",
       "\n",
       "    .dataframe thead th {\n",
       "        text-align: right;\n",
       "    }\n",
       "</style>\n",
       "<table border=\"1\" class=\"dataframe\">\n",
       "  <thead>\n",
       "    <tr style=\"text-align: right;\">\n",
       "      <th></th>\n",
       "      <th></th>\n",
       "      <th>city</th>\n",
       "    </tr>\n",
       "    <tr>\n",
       "      <th>rooms</th>\n",
       "      <th>city</th>\n",
       "      <th></th>\n",
       "    </tr>\n",
       "  </thead>\n",
       "  <tbody>\n",
       "    <tr>\n",
       "      <th rowspan=\"5\" valign=\"top\">1</th>\n",
       "      <th>Belo Horizonte</th>\n",
       "      <td>150</td>\n",
       "    </tr>\n",
       "    <tr>\n",
       "      <th>Campinas</th>\n",
       "      <td>218</td>\n",
       "    </tr>\n",
       "    <tr>\n",
       "      <th>Porto Alegre</th>\n",
       "      <td>374</td>\n",
       "    </tr>\n",
       "    <tr>\n",
       "      <th>Rio de Janeiro</th>\n",
       "      <td>404</td>\n",
       "    </tr>\n",
       "    <tr>\n",
       "      <th>São Paulo</th>\n",
       "      <td>1308</td>\n",
       "    </tr>\n",
       "    <tr>\n",
       "      <th rowspan=\"5\" valign=\"top\">2</th>\n",
       "      <th>Belo Horizonte</th>\n",
       "      <td>324</td>\n",
       "    </tr>\n",
       "    <tr>\n",
       "      <th>Campinas</th>\n",
       "      <td>259</td>\n",
       "    </tr>\n",
       "    <tr>\n",
       "      <th>Porto Alegre</th>\n",
       "      <td>436</td>\n",
       "    </tr>\n",
       "    <tr>\n",
       "      <th>Rio de Janeiro</th>\n",
       "      <td>529</td>\n",
       "    </tr>\n",
       "    <tr>\n",
       "      <th>São Paulo</th>\n",
       "      <td>1547</td>\n",
       "    </tr>\n",
       "  </tbody>\n",
       "</table>\n",
       "</div>"
      ],
      "text/plain": [
       "                      city\n",
       "rooms city                \n",
       "1     Belo Horizonte   150\n",
       "      Campinas         218\n",
       "      Porto Alegre     374\n",
       "      Rio de Janeiro   404\n",
       "      São Paulo       1308\n",
       "2     Belo Horizonte   324\n",
       "      Campinas         259\n",
       "      Porto Alegre     436\n",
       "      Rio de Janeiro   529\n",
       "      São Paulo       1547"
      ]
     },
     "execution_count": 42,
     "metadata": {},
     "output_type": "execute_result"
    },
    {
     "data": {
      "image/png": "[encoded data removed]",
      "text/plain": [
       "<Figure size 720x576 with 1 Axes>"
      ]
     },
     "metadata": {
      "needs_background": "light"
     },
     "output_type": "display_data"
    }
   ],
   "source": [
    "Rooms=df[df['rooms']<3]\n",
    "fig,ax=plt.subplots(figsize=(10,8))\n",
    "sns.countplot(data=Rooms,x='rooms',hue='city')\n",
    "pd.DataFrame(Rooms.groupby(['rooms','city'])['city'].count())"
   ]
  },
  {
   "cell_type": "markdown",
   "id": "7222de78",
   "metadata": {},
   "source": [
    "## Sao Paulo have majority of rooms for small Family"
   ]
  },
  {
   "cell_type": "code",
   "execution_count": 43,
   "id": "7af72b6e",
   "metadata": {},
   "outputs": [
    {
     "data": {
      "text/html": [
       "<div>\n",
       "<style scoped>\n",
       "    .dataframe tbody tr th:only-of-type {\n",
       "        vertical-align: middle;\n",
       "    }\n",
       "\n",
       "    .dataframe tbody tr th {\n",
       "        vertical-align: top;\n",
       "    }\n",
       "\n",
       "    .dataframe thead th {\n",
       "        text-align: right;\n",
       "    }\n",
       "</style>\n",
       "<table border=\"1\" class=\"dataframe\">\n",
       "  <thead>\n",
       "    <tr style=\"text-align: right;\">\n",
       "      <th></th>\n",
       "      <th></th>\n",
       "      <th>total (R$)</th>\n",
       "    </tr>\n",
       "    <tr>\n",
       "      <th>rooms</th>\n",
       "      <th>city</th>\n",
       "      <th></th>\n",
       "    </tr>\n",
       "  </thead>\n",
       "  <tbody>\n",
       "    <tr>\n",
       "      <th rowspan=\"5\" valign=\"top\">1</th>\n",
       "      <th>Belo Horizonte</th>\n",
       "      <td>16713.766667</td>\n",
       "    </tr>\n",
       "    <tr>\n",
       "      <th>Campinas</th>\n",
       "      <td>1747.334862</td>\n",
       "    </tr>\n",
       "    <tr>\n",
       "      <th>Porto Alegre</th>\n",
       "      <td>1844.534759</td>\n",
       "    </tr>\n",
       "    <tr>\n",
       "      <th>Rio de Janeiro</th>\n",
       "      <td>2660.636139</td>\n",
       "    </tr>\n",
       "    <tr>\n",
       "      <th>São Paulo</th>\n",
       "      <td>3398.940367</td>\n",
       "    </tr>\n",
       "    <tr>\n",
       "      <th rowspan=\"5\" valign=\"top\">2</th>\n",
       "      <th>Belo Horizonte</th>\n",
       "      <td>2895.666667</td>\n",
       "    </tr>\n",
       "    <tr>\n",
       "      <th>Campinas</th>\n",
       "      <td>2018.069498</td>\n",
       "    </tr>\n",
       "    <tr>\n",
       "      <th>Porto Alegre</th>\n",
       "      <td>2344.639908</td>\n",
       "    </tr>\n",
       "    <tr>\n",
       "      <th>Rio de Janeiro</th>\n",
       "      <td>3662.540643</td>\n",
       "    </tr>\n",
       "    <tr>\n",
       "      <th>São Paulo</th>\n",
       "      <td>4141.469942</td>\n",
       "    </tr>\n",
       "  </tbody>\n",
       "</table>\n",
       "</div>"
      ],
      "text/plain": [
       "                        total (R$)\n",
       "rooms city                        \n",
       "1     Belo Horizonte  16713.766667\n",
       "      Campinas         1747.334862\n",
       "      Porto Alegre     1844.534759\n",
       "      Rio de Janeiro   2660.636139\n",
       "      São Paulo        3398.940367\n",
       "2     Belo Horizonte   2895.666667\n",
       "      Campinas         2018.069498\n",
       "      Porto Alegre     2344.639908\n",
       "      Rio de Janeiro   3662.540643\n",
       "      São Paulo        4141.469942"
      ]
     },
     "execution_count": 43,
     "metadata": {},
     "output_type": "execute_result"
    },
    {
     "data": {
      "image/png": "[encoded data removed]",
      "text/plain": [
       "<Figure size 541x432 with 1 Axes>"
      ]
     },
     "metadata": {
      "needs_background": "light"
     },
     "output_type": "display_data"
    }
   ],
   "source": [
    "sns.catplot(data = Rooms, x= 'rooms', y= 'total (R$)', kind = 'bar',\n",
    "           hue = 'city', ci= None,height=6,estimator=np.mean);\n",
    "pd.DataFrame(Rooms.groupby(['rooms','city'])['total (R$)'].mean())"
   ]
  },
  {
   "cell_type": "markdown",
   "id": "a4964a7b",
   "metadata": {},
   "source": [
    "### Sao paulo and Belo Horizonte employees can looks for relocate on the basis of Rooms Available as they have highest Average total cost as per Rooms Availability for Small Family"
   ]
  },
  {
   "cell_type": "markdown",
   "id": "f1b2a57f",
   "metadata": {},
   "source": [
    "# Analysis of Bathrooms"
   ]
  },
  {
   "cell_type": "code",
   "execution_count": 18,
   "id": "e6d52d10",
   "metadata": {},
   "outputs": [
    {
     "data": {
      "text/plain": [
       "<AxesSubplot:xlabel='bathroom'>"
      ]
     },
     "execution_count": 18,
     "metadata": {},
     "output_type": "execute_result"
    },
    {
     "data": {
      "image/png": "[encoded data removed]",
      "text/plain": [
       "<Figure size 432x288 with 1 Axes>"
      ]
     },
     "metadata": {
      "needs_background": "light"
     },
     "output_type": "display_data"
    }
   ],
   "source": [
    "sns.boxplot(x = df[\"bathroom\"], color = \"g\") "
   ]
  },
  {
   "cell_type": "markdown",
   "id": "50c95791",
   "metadata": {},
   "source": [
    "# Outliars removing"
   ]
  },
  {
   "cell_type": "code",
   "execution_count": 19,
   "id": "d4e97992",
   "metadata": {},
   "outputs": [],
   "source": [
    "mean = int(df.rooms.mean())\n",
    "x = df[df[\"bathroom\"] >3].index\n",
    "for index in x:\n",
    "    df.loc[index, \"bathroom\"] = mean"
   ]
  },
  {
   "cell_type": "code",
   "execution_count": 20,
   "id": "07541b99",
   "metadata": {},
   "outputs": [
    {
     "data": {
      "image/png": "[encoded data removed]",
      "text/plain": [
       "<Figure size 1440x504 with 2 Axes>"
      ]
     },
     "metadata": {
      "needs_background": "light"
     },
     "output_type": "display_data"
    }
   ],
   "source": [
    "fig, ax = plt.subplots(1, 2, figsize= (20, 7)) \n",
    "sns.histplot(x = df[\"bathroom\"], ax =ax[1], color = \"m\")\n",
    "sns.boxplot(x = df[\"bathroom\"], ax = ax[0], color = \"g\") \n",
    "plt.show()"
   ]
  },
  {
   "cell_type": "code",
   "execution_count": 50,
   "id": "6b4407b5",
   "metadata": {},
   "outputs": [
    {
     "data": {
      "text/html": [
       "<div>\n",
       "<style scoped>\n",
       "    .dataframe tbody tr th:only-of-type {\n",
       "        vertical-align: middle;\n",
       "    }\n",
       "\n",
       "    .dataframe tbody tr th {\n",
       "        vertical-align: top;\n",
       "    }\n",
       "\n",
       "    .dataframe thead th {\n",
       "        text-align: right;\n",
       "    }\n",
       "</style>\n",
       "<table border=\"1\" class=\"dataframe\">\n",
       "  <thead>\n",
       "    <tr style=\"text-align: right;\">\n",
       "      <th></th>\n",
       "      <th></th>\n",
       "      <th>city</th>\n",
       "    </tr>\n",
       "    <tr>\n",
       "      <th>bathroom</th>\n",
       "      <th>city</th>\n",
       "      <th></th>\n",
       "    </tr>\n",
       "  </thead>\n",
       "  <tbody>\n",
       "    <tr>\n",
       "      <th rowspan=\"5\" valign=\"top\">1</th>\n",
       "      <th>Belo Horizonte</th>\n",
       "      <td>410</td>\n",
       "    </tr>\n",
       "    <tr>\n",
       "      <th>Campinas</th>\n",
       "      <td>439</td>\n",
       "    </tr>\n",
       "    <tr>\n",
       "      <th>Porto Alegre</th>\n",
       "      <td>650</td>\n",
       "    </tr>\n",
       "    <tr>\n",
       "      <th>Rio de Janeiro</th>\n",
       "      <td>736</td>\n",
       "    </tr>\n",
       "    <tr>\n",
       "      <th>São Paulo</th>\n",
       "      <td>2066</td>\n",
       "    </tr>\n",
       "    <tr>\n",
       "      <th rowspan=\"5\" valign=\"top\">2</th>\n",
       "      <th>Belo Horizonte</th>\n",
       "      <td>627</td>\n",
       "    </tr>\n",
       "    <tr>\n",
       "      <th>Campinas</th>\n",
       "      <td>320</td>\n",
       "    </tr>\n",
       "    <tr>\n",
       "      <th>Porto Alegre</th>\n",
       "      <td>432</td>\n",
       "    </tr>\n",
       "    <tr>\n",
       "      <th>Rio de Janeiro</th>\n",
       "      <td>613</td>\n",
       "    </tr>\n",
       "    <tr>\n",
       "      <th>São Paulo</th>\n",
       "      <td>2925</td>\n",
       "    </tr>\n",
       "  </tbody>\n",
       "</table>\n",
       "</div>"
      ],
      "text/plain": [
       "                         city\n",
       "bathroom city                \n",
       "1        Belo Horizonte   410\n",
       "         Campinas         439\n",
       "         Porto Alegre     650\n",
       "         Rio de Janeiro   736\n",
       "         São Paulo       2066\n",
       "2        Belo Horizonte   627\n",
       "         Campinas         320\n",
       "         Porto Alegre     432\n",
       "         Rio de Janeiro   613\n",
       "         São Paulo       2925"
      ]
     },
     "execution_count": 50,
     "metadata": {},
     "output_type": "execute_result"
    },
    {
     "data": {
      "image/png": "[encoded data removed]",
      "text/plain": [
       "<Figure size 576x576 with 1 Axes>"
      ]
     },
     "metadata": {
      "needs_background": "light"
     },
     "output_type": "display_data"
    }
   ],
   "source": [
    "Bathroom=df[df['bathroom']<=2]\n",
    "fig,ax=plt.subplots(figsize=(8,8))\n",
    "sns.countplot(data=Bathroom,x='bathroom',hue='city')\n",
    "pd.DataFrame(Bathroom.groupby(['bathroom','city'])['city'].count())"
   ]
  },
  {
   "cell_type": "code",
   "execution_count": 51,
   "id": "270823e6",
   "metadata": {},
   "outputs": [
    {
     "data": {
      "text/html": [
       "<div>\n",
       "<style scoped>\n",
       "    .dataframe tbody tr th:only-of-type {\n",
       "        vertical-align: middle;\n",
       "    }\n",
       "\n",
       "    .dataframe tbody tr th {\n",
       "        vertical-align: top;\n",
       "    }\n",
       "\n",
       "    .dataframe thead th {\n",
       "        text-align: right;\n",
       "    }\n",
       "</style>\n",
       "<table border=\"1\" class=\"dataframe\">\n",
       "  <thead>\n",
       "    <tr style=\"text-align: right;\">\n",
       "      <th></th>\n",
       "      <th></th>\n",
       "      <th>total (R$)</th>\n",
       "    </tr>\n",
       "    <tr>\n",
       "      <th>bathroom</th>\n",
       "      <th>city</th>\n",
       "      <th></th>\n",
       "    </tr>\n",
       "  </thead>\n",
       "  <tbody>\n",
       "    <tr>\n",
       "      <th rowspan=\"5\" valign=\"top\">1</th>\n",
       "      <th>Belo Horizonte</th>\n",
       "      <td>1692.182927</td>\n",
       "    </tr>\n",
       "    <tr>\n",
       "      <th>Campinas</th>\n",
       "      <td>1700.063781</td>\n",
       "    </tr>\n",
       "    <tr>\n",
       "      <th>Porto Alegre</th>\n",
       "      <td>1802.956923</td>\n",
       "    </tr>\n",
       "    <tr>\n",
       "      <th>Rio de Janeiro</th>\n",
       "      <td>2768.095109</td>\n",
       "    </tr>\n",
       "    <tr>\n",
       "      <th>São Paulo</th>\n",
       "      <td>2837.657793</td>\n",
       "    </tr>\n",
       "    <tr>\n",
       "      <th rowspan=\"5\" valign=\"top\">2</th>\n",
       "      <th>Belo Horizonte</th>\n",
       "      <td>9526.006380</td>\n",
       "    </tr>\n",
       "    <tr>\n",
       "      <th>Campinas</th>\n",
       "      <td>4679.237500</td>\n",
       "    </tr>\n",
       "    <tr>\n",
       "      <th>Porto Alegre</th>\n",
       "      <td>4180.965278</td>\n",
       "    </tr>\n",
       "    <tr>\n",
       "      <th>Rio de Janeiro</th>\n",
       "      <td>6101.954323</td>\n",
       "    </tr>\n",
       "    <tr>\n",
       "      <th>São Paulo</th>\n",
       "      <td>8430.013675</td>\n",
       "    </tr>\n",
       "  </tbody>\n",
       "</table>\n",
       "</div>"
      ],
      "text/plain": [
       "                          total (R$)\n",
       "bathroom city                       \n",
       "1        Belo Horizonte  1692.182927\n",
       "         Campinas        1700.063781\n",
       "         Porto Alegre    1802.956923\n",
       "         Rio de Janeiro  2768.095109\n",
       "         São Paulo       2837.657793\n",
       "2        Belo Horizonte  9526.006380\n",
       "         Campinas        4679.237500\n",
       "         Porto Alegre    4180.965278\n",
       "         Rio de Janeiro  6101.954323\n",
       "         São Paulo       8430.013675"
      ]
     },
     "execution_count": 51,
     "metadata": {},
     "output_type": "execute_result"
    },
    {
     "data": {
      "image/png": "[encoded data removed]",
      "text/plain": [
       "<Figure size 541x432 with 1 Axes>"
      ]
     },
     "metadata": {
      "needs_background": "light"
     },
     "output_type": "display_data"
    }
   ],
   "source": [
    "sns.catplot(data = Bathroom, x= 'bathroom', y= 'total (R$)', kind = 'bar',\n",
    "           hue = 'city', ci= None,height=6,estimator=np.mean);\n",
    "pd.DataFrame(Bathroom.groupby(['bathroom','city'])['total (R$)'].mean())"
   ]
  },
  {
   "cell_type": "markdown",
   "id": "f1032f0b",
   "metadata": {},
   "source": [
    "### Sao Paulo and Rio De janerio employee can look for relocate as per Bathrooms availability to other cities as it have higher Average Total"
   ]
  },
  {
   "cell_type": "markdown",
   "id": "280dc604",
   "metadata": {},
   "source": [
    "# Analysis on the basis of floors"
   ]
  },
  {
   "cell_type": "code",
   "execution_count": 23,
   "id": "0ef5f190",
   "metadata": {},
   "outputs": [
    {
     "data": {
      "text/plain": [
       "<AxesSubplot:xlabel='floor'>"
      ]
     },
     "execution_count": 23,
     "metadata": {},
     "output_type": "execute_result"
    },
    {
     "data": {
      "image/png": "[encoded data removed]",
      "text/plain": [
       "<Figure size 432x288 with 1 Axes>"
      ]
     },
     "metadata": {
      "needs_background": "light"
     },
     "output_type": "display_data"
    }
   ],
   "source": [
    "sns.boxplot(x = df[\"floor\"], color = \"g\") "
   ]
  },
  {
   "cell_type": "markdown",
   "id": "9af6dd5b",
   "metadata": {},
   "source": [
    "# Outliars Removing"
   ]
  },
  {
   "cell_type": "code",
   "execution_count": 24,
   "id": "1241b19f",
   "metadata": {},
   "outputs": [],
   "source": [
    "mean = int(df.rooms.mean())\n",
    "x = df[df[\"floor\"] >mean].index\n",
    "for index in x:\n",
    "    df.loc[index, \"floor\"] = mean"
   ]
  },
  {
   "cell_type": "code",
   "execution_count": 25,
   "id": "7364fa1b",
   "metadata": {},
   "outputs": [
    {
     "data": {
      "image/png": "[encoded data removed]",
      "text/plain": [
       "<Figure size 720x504 with 2 Axes>"
      ]
     },
     "metadata": {
      "needs_background": "light"
     },
     "output_type": "display_data"
    }
   ],
   "source": [
    "fig, ax = plt.subplots(1, 2, figsize= (10, 7)) \n",
    "sns.histplot(x = df[\"floor\"], ax =ax[1], color = \"m\")\n",
    "sns.boxplot(x = df[\"floor\"], ax = ax[0], color = \"g\") \n",
    "plt.show()"
   ]
  },
  {
   "cell_type": "code",
   "execution_count": 26,
   "id": "bd1b98be",
   "metadata": {},
   "outputs": [
    {
     "data": {
      "text/html": [
       "<div>\n",
       "<style scoped>\n",
       "    .dataframe tbody tr th:only-of-type {\n",
       "        vertical-align: middle;\n",
       "    }\n",
       "\n",
       "    .dataframe tbody tr th {\n",
       "        vertical-align: top;\n",
       "    }\n",
       "\n",
       "    .dataframe thead th {\n",
       "        text-align: right;\n",
       "    }\n",
       "</style>\n",
       "<table border=\"1\" class=\"dataframe\">\n",
       "  <thead>\n",
       "    <tr style=\"text-align: right;\">\n",
       "      <th></th>\n",
       "      <th></th>\n",
       "      <th>city</th>\n",
       "    </tr>\n",
       "    <tr>\n",
       "      <th>floor</th>\n",
       "      <th>city</th>\n",
       "      <th></th>\n",
       "    </tr>\n",
       "  </thead>\n",
       "  <tbody>\n",
       "    <tr>\n",
       "      <th rowspan=\"5\" valign=\"top\">0</th>\n",
       "      <th>Belo Horizonte</th>\n",
       "      <td>342</td>\n",
       "    </tr>\n",
       "    <tr>\n",
       "      <th>Campinas</th>\n",
       "      <td>204</td>\n",
       "    </tr>\n",
       "    <tr>\n",
       "      <th>Porto Alegre</th>\n",
       "      <td>194</td>\n",
       "    </tr>\n",
       "    <tr>\n",
       "      <th>Rio de Janeiro</th>\n",
       "      <td>107</td>\n",
       "    </tr>\n",
       "    <tr>\n",
       "      <th>São Paulo</th>\n",
       "      <td>1614</td>\n",
       "    </tr>\n",
       "    <tr>\n",
       "      <th rowspan=\"5\" valign=\"top\">1</th>\n",
       "      <th>Belo Horizonte</th>\n",
       "      <td>156</td>\n",
       "    </tr>\n",
       "    <tr>\n",
       "      <th>Campinas</th>\n",
       "      <td>103</td>\n",
       "    </tr>\n",
       "    <tr>\n",
       "      <th>Porto Alegre</th>\n",
       "      <td>143</td>\n",
       "    </tr>\n",
       "    <tr>\n",
       "      <th>Rio de Janeiro</th>\n",
       "      <td>137</td>\n",
       "    </tr>\n",
       "    <tr>\n",
       "      <th>São Paulo</th>\n",
       "      <td>542</td>\n",
       "    </tr>\n",
       "    <tr>\n",
       "      <th rowspan=\"5\" valign=\"top\">2</th>\n",
       "      <th>Belo Horizonte</th>\n",
       "      <td>760</td>\n",
       "    </tr>\n",
       "    <tr>\n",
       "      <th>Campinas</th>\n",
       "      <td>546</td>\n",
       "    </tr>\n",
       "    <tr>\n",
       "      <th>Porto Alegre</th>\n",
       "      <td>856</td>\n",
       "    </tr>\n",
       "    <tr>\n",
       "      <th>Rio de Janeiro</th>\n",
       "      <td>1257</td>\n",
       "    </tr>\n",
       "    <tr>\n",
       "      <th>São Paulo</th>\n",
       "      <td>3731</td>\n",
       "    </tr>\n",
       "  </tbody>\n",
       "</table>\n",
       "</div>"
      ],
      "text/plain": [
       "                      city\n",
       "floor city                \n",
       "0     Belo Horizonte   342\n",
       "      Campinas         204\n",
       "      Porto Alegre     194\n",
       "      Rio de Janeiro   107\n",
       "      São Paulo       1614\n",
       "1     Belo Horizonte   156\n",
       "      Campinas         103\n",
       "      Porto Alegre     143\n",
       "      Rio de Janeiro   137\n",
       "      São Paulo        542\n",
       "2     Belo Horizonte   760\n",
       "      Campinas         546\n",
       "      Porto Alegre     856\n",
       "      Rio de Janeiro  1257\n",
       "      São Paulo       3731"
      ]
     },
     "execution_count": 26,
     "metadata": {},
     "output_type": "execute_result"
    },
    {
     "data": {
      "image/png": "[encoded data removed]",
      "text/plain": [
       "<Figure size 576x576 with 1 Axes>"
      ]
     },
     "metadata": {
      "needs_background": "light"
     },
     "output_type": "display_data"
    }
   ],
   "source": [
    "fig,ax=plt.subplots(figsize=(8,8))\n",
    "sns.countplot(data=df,x='floor',hue='city')\n",
    "pd.DataFrame(df.groupby(['floor','city'])['city'].count())"
   ]
  },
  {
   "cell_type": "code",
   "execution_count": 27,
   "id": "6d0ec4ca",
   "metadata": {},
   "outputs": [
    {
     "data": {
      "text/html": [
       "<div>\n",
       "<style scoped>\n",
       "    .dataframe tbody tr th:only-of-type {\n",
       "        vertical-align: middle;\n",
       "    }\n",
       "\n",
       "    .dataframe tbody tr th {\n",
       "        vertical-align: top;\n",
       "    }\n",
       "\n",
       "    .dataframe thead th {\n",
       "        text-align: right;\n",
       "    }\n",
       "</style>\n",
       "<table border=\"1\" class=\"dataframe\">\n",
       "  <thead>\n",
       "    <tr style=\"text-align: right;\">\n",
       "      <th></th>\n",
       "      <th></th>\n",
       "      <th>total (R$)</th>\n",
       "    </tr>\n",
       "    <tr>\n",
       "      <th>floor</th>\n",
       "      <th>city</th>\n",
       "      <th></th>\n",
       "    </tr>\n",
       "  </thead>\n",
       "  <tbody>\n",
       "    <tr>\n",
       "      <th rowspan=\"5\" valign=\"top\">0</th>\n",
       "      <th>Belo Horizonte</th>\n",
       "      <td>6034.812865</td>\n",
       "    </tr>\n",
       "    <tr>\n",
       "      <th>Campinas</th>\n",
       "      <td>4315.406863</td>\n",
       "    </tr>\n",
       "    <tr>\n",
       "      <th>Porto Alegre</th>\n",
       "      <td>4304.128866</td>\n",
       "    </tr>\n",
       "    <tr>\n",
       "      <th>Rio de Janeiro</th>\n",
       "      <td>4470.439252</td>\n",
       "    </tr>\n",
       "    <tr>\n",
       "      <th>São Paulo</th>\n",
       "      <td>5897.153036</td>\n",
       "    </tr>\n",
       "    <tr>\n",
       "      <th rowspan=\"5\" valign=\"top\">1</th>\n",
       "      <th>Belo Horizonte</th>\n",
       "      <td>2314.064103</td>\n",
       "    </tr>\n",
       "    <tr>\n",
       "      <th>Campinas</th>\n",
       "      <td>2536.203883</td>\n",
       "    </tr>\n",
       "    <tr>\n",
       "      <th>Porto Alegre</th>\n",
       "      <td>1945.069930</td>\n",
       "    </tr>\n",
       "    <tr>\n",
       "      <th>Rio de Janeiro</th>\n",
       "      <td>4771.861314</td>\n",
       "    </tr>\n",
       "    <tr>\n",
       "      <th>São Paulo</th>\n",
       "      <td>5151.219557</td>\n",
       "    </tr>\n",
       "    <tr>\n",
       "      <th rowspan=\"5\" valign=\"top\">2</th>\n",
       "      <th>Belo Horizonte</th>\n",
       "      <td>7262.730263</td>\n",
       "    </tr>\n",
       "    <tr>\n",
       "      <th>Campinas</th>\n",
       "      <td>2866.727106</td>\n",
       "    </tr>\n",
       "    <tr>\n",
       "      <th>Porto Alegre</th>\n",
       "      <td>2866.431075</td>\n",
       "    </tr>\n",
       "    <tr>\n",
       "      <th>Rio de Janeiro</th>\n",
       "      <td>4606.250597</td>\n",
       "    </tr>\n",
       "    <tr>\n",
       "      <th>São Paulo</th>\n",
       "      <td>6768.692308</td>\n",
       "    </tr>\n",
       "  </tbody>\n",
       "</table>\n",
       "</div>"
      ],
      "text/plain": [
       "                       total (R$)\n",
       "floor city                       \n",
       "0     Belo Horizonte  6034.812865\n",
       "      Campinas        4315.406863\n",
       "      Porto Alegre    4304.128866\n",
       "      Rio de Janeiro  4470.439252\n",
       "      São Paulo       5897.153036\n",
       "1     Belo Horizonte  2314.064103\n",
       "      Campinas        2536.203883\n",
       "      Porto Alegre    1945.069930\n",
       "      Rio de Janeiro  4771.861314\n",
       "      São Paulo       5151.219557\n",
       "2     Belo Horizonte  7262.730263\n",
       "      Campinas        2866.727106\n",
       "      Porto Alegre    2866.431075\n",
       "      Rio de Janeiro  4606.250597\n",
       "      São Paulo       6768.692308"
      ]
     },
     "execution_count": 27,
     "metadata": {},
     "output_type": "execute_result"
    },
    {
     "data": {
      "image/png": "[encoded data removed]",
      "text/plain": [
       "<Figure size 541x432 with 1 Axes>"
      ]
     },
     "metadata": {
      "needs_background": "light"
     },
     "output_type": "display_data"
    }
   ],
   "source": [
    "sns.catplot(data = df, x= 'floor', y= 'total (R$)', kind = 'bar',\n",
    "           hue = 'city', ci= None,height=6,estimator=np.mean);\n",
    "pd.DataFrame(df.groupby(['floor','city'])['total (R$)'].mean())"
   ]
  },
  {
   "cell_type": "markdown",
   "id": "5ec58c55",
   "metadata": {},
   "source": [
    "### Sao paulo and Belo Horizonte Employees can looks for other city to relocate as they have higher Average price as per floors"
   ]
  },
  {
   "cell_type": "markdown",
   "id": "144b1af2",
   "metadata": {},
   "source": [
    "# Analysing on the basis of Parking "
   ]
  },
  {
   "cell_type": "code",
   "execution_count": 28,
   "id": "43d6b22c",
   "metadata": {
    "scrolled": true
   },
   "outputs": [
    {
     "data": {
      "text/plain": [
       "<AxesSubplot:xlabel='parking spaces'>"
      ]
     },
     "execution_count": 28,
     "metadata": {},
     "output_type": "execute_result"
    },
    {
     "data": {
      "image/png": "[encoded data removed]",
      "text/plain": [
       "<Figure size 432x288 with 1 Axes>"
      ]
     },
     "metadata": {
      "needs_background": "light"
     },
     "output_type": "display_data"
    }
   ],
   "source": [
    "sns.boxplot(x = df[\"parking spaces\"], color = \"g\") "
   ]
  },
  {
   "cell_type": "markdown",
   "id": "bd6e2a0a",
   "metadata": {},
   "source": [
    "## outliars treatment"
   ]
  },
  {
   "cell_type": "code",
   "execution_count": 29,
   "id": "0f9db9cb",
   "metadata": {},
   "outputs": [],
   "source": [
    "mean = int(df.rooms.mean())\n",
    "x = df[df['parking spaces'] >mean].index\n",
    "for index in x:\n",
    "    df.loc[index, \"parking spaces\"] = mean"
   ]
  },
  {
   "cell_type": "code",
   "execution_count": 30,
   "id": "f7dbcde1",
   "metadata": {},
   "outputs": [
    {
     "data": {
      "image/png": "[encoded data removed]",
      "text/plain": [
       "<Figure size 720x504 with 2 Axes>"
      ]
     },
     "metadata": {
      "needs_background": "light"
     },
     "output_type": "display_data"
    }
   ],
   "source": [
    "fig, ax = plt.subplots(1, 2, figsize= (10, 7)) \n",
    "sns.histplot(x = df[\"parking spaces\"], ax =ax[1], color = \"m\")\n",
    "sns.boxplot(x = df[\"parking spaces\"], ax = ax[0], color = \"g\") \n",
    "plt.show()"
   ]
  },
  {
   "cell_type": "markdown",
   "id": "ae6e3e1e",
   "metadata": {},
   "source": [
    "# Total number of Parking area as per city"
   ]
  },
  {
   "cell_type": "code",
   "execution_count": 49,
   "id": "75a47ee6",
   "metadata": {},
   "outputs": [
    {
     "data": {
      "text/html": [
       "<div>\n",
       "<style scoped>\n",
       "    .dataframe tbody tr th:only-of-type {\n",
       "        vertical-align: middle;\n",
       "    }\n",
       "\n",
       "    .dataframe tbody tr th {\n",
       "        vertical-align: top;\n",
       "    }\n",
       "\n",
       "    .dataframe thead th {\n",
       "        text-align: right;\n",
       "    }\n",
       "</style>\n",
       "<table border=\"1\" class=\"dataframe\">\n",
       "  <thead>\n",
       "    <tr style=\"text-align: right;\">\n",
       "      <th></th>\n",
       "      <th></th>\n",
       "      <th>city</th>\n",
       "    </tr>\n",
       "    <tr>\n",
       "      <th>parking spaces</th>\n",
       "      <th>city</th>\n",
       "      <th></th>\n",
       "    </tr>\n",
       "  </thead>\n",
       "  <tbody>\n",
       "    <tr>\n",
       "      <th rowspan=\"5\" valign=\"top\">0</th>\n",
       "      <th>Belo Horizonte</th>\n",
       "      <td>193</td>\n",
       "    </tr>\n",
       "    <tr>\n",
       "      <th>Campinas</th>\n",
       "      <td>158</td>\n",
       "    </tr>\n",
       "    <tr>\n",
       "      <th>Porto Alegre</th>\n",
       "      <td>438</td>\n",
       "    </tr>\n",
       "    <tr>\n",
       "      <th>Rio de Janeiro</th>\n",
       "      <td>679</td>\n",
       "    </tr>\n",
       "    <tr>\n",
       "      <th>São Paulo</th>\n",
       "      <td>1215</td>\n",
       "    </tr>\n",
       "    <tr>\n",
       "      <th rowspan=\"5\" valign=\"top\">1</th>\n",
       "      <th>Belo Horizonte</th>\n",
       "      <td>415</td>\n",
       "    </tr>\n",
       "    <tr>\n",
       "      <th>Campinas</th>\n",
       "      <td>387</td>\n",
       "    </tr>\n",
       "    <tr>\n",
       "      <th>Porto Alegre</th>\n",
       "      <td>454</td>\n",
       "    </tr>\n",
       "    <tr>\n",
       "      <th>Rio de Janeiro</th>\n",
       "      <td>602</td>\n",
       "    </tr>\n",
       "    <tr>\n",
       "      <th>São Paulo</th>\n",
       "      <td>1772</td>\n",
       "    </tr>\n",
       "  </tbody>\n",
       "</table>\n",
       "</div>"
      ],
      "text/plain": [
       "                               city\n",
       "parking spaces city                \n",
       "0              Belo Horizonte   193\n",
       "               Campinas         158\n",
       "               Porto Alegre     438\n",
       "               Rio de Janeiro   679\n",
       "               São Paulo       1215\n",
       "1              Belo Horizonte   415\n",
       "               Campinas         387\n",
       "               Porto Alegre     454\n",
       "               Rio de Janeiro   602\n",
       "               São Paulo       1772"
      ]
     },
     "execution_count": 49,
     "metadata": {},
     "output_type": "execute_result"
    },
    {
     "data": {
      "image/png": "[encoded data removed]",
      "text/plain": [
       "<Figure size 576x576 with 1 Axes>"
      ]
     },
     "metadata": {
      "needs_background": "light"
     },
     "output_type": "display_data"
    }
   ],
   "source": [
    "Parking=df[df['parking spaces']<=1]\n",
    "fig,ax=plt.subplots(figsize=(8,8))\n",
    "sns.countplot(data=Parking,x='parking spaces',hue='city')\n",
    "pd.DataFrame(Parking.groupby(['parking spaces','city'])['city'].count())"
   ]
  },
  {
   "cell_type": "markdown",
   "id": "f3869829",
   "metadata": {},
   "source": [
    "## Sao paulo have properties in majority as per availability of parkings for small families"
   ]
  },
  {
   "cell_type": "markdown",
   "id": "ab2dec9c",
   "metadata": {},
   "source": [
    "# Average Rate of Property as per Parking Area by city"
   ]
  },
  {
   "cell_type": "code",
   "execution_count": 47,
   "id": "0e1d6159",
   "metadata": {},
   "outputs": [
    {
     "data": {
      "text/html": [
       "<div>\n",
       "<style scoped>\n",
       "    .dataframe tbody tr th:only-of-type {\n",
       "        vertical-align: middle;\n",
       "    }\n",
       "\n",
       "    .dataframe tbody tr th {\n",
       "        vertical-align: top;\n",
       "    }\n",
       "\n",
       "    .dataframe thead th {\n",
       "        text-align: right;\n",
       "    }\n",
       "</style>\n",
       "<table border=\"1\" class=\"dataframe\">\n",
       "  <thead>\n",
       "    <tr style=\"text-align: right;\">\n",
       "      <th></th>\n",
       "      <th></th>\n",
       "      <th>total (R$)</th>\n",
       "    </tr>\n",
       "    <tr>\n",
       "      <th>parking spaces</th>\n",
       "      <th>city</th>\n",
       "      <th></th>\n",
       "    </tr>\n",
       "  </thead>\n",
       "  <tbody>\n",
       "    <tr>\n",
       "      <th rowspan=\"5\" valign=\"top\">0</th>\n",
       "      <th>Belo Horizonte</th>\n",
       "      <td>14540.512953</td>\n",
       "    </tr>\n",
       "    <tr>\n",
       "      <th>Campinas</th>\n",
       "      <td>1939.379747</td>\n",
       "    </tr>\n",
       "    <tr>\n",
       "      <th>Porto Alegre</th>\n",
       "      <td>1911.541096</td>\n",
       "    </tr>\n",
       "    <tr>\n",
       "      <th>Rio de Janeiro</th>\n",
       "      <td>3131.409426</td>\n",
       "    </tr>\n",
       "    <tr>\n",
       "      <th>São Paulo</th>\n",
       "      <td>2979.282305</td>\n",
       "    </tr>\n",
       "    <tr>\n",
       "      <th rowspan=\"5\" valign=\"top\">1</th>\n",
       "      <th>Belo Horizonte</th>\n",
       "      <td>2101.400000</td>\n",
       "    </tr>\n",
       "    <tr>\n",
       "      <th>Campinas</th>\n",
       "      <td>1968.020672</td>\n",
       "    </tr>\n",
       "    <tr>\n",
       "      <th>Porto Alegre</th>\n",
       "      <td>2405.689427</td>\n",
       "    </tr>\n",
       "    <tr>\n",
       "      <th>Rio de Janeiro</th>\n",
       "      <td>4581.514950</td>\n",
       "    </tr>\n",
       "    <tr>\n",
       "      <th>São Paulo</th>\n",
       "      <td>4276.816591</td>\n",
       "    </tr>\n",
       "  </tbody>\n",
       "</table>\n",
       "</div>"
      ],
      "text/plain": [
       "                                 total (R$)\n",
       "parking spaces city                        \n",
       "0              Belo Horizonte  14540.512953\n",
       "               Campinas         1939.379747\n",
       "               Porto Alegre     1911.541096\n",
       "               Rio de Janeiro   3131.409426\n",
       "               São Paulo        2979.282305\n",
       "1              Belo Horizonte   2101.400000\n",
       "               Campinas         1968.020672\n",
       "               Porto Alegre     2405.689427\n",
       "               Rio de Janeiro   4581.514950\n",
       "               São Paulo        4276.816591"
      ]
     },
     "execution_count": 47,
     "metadata": {},
     "output_type": "execute_result"
    },
    {
     "data": {
      "image/png": "[encoded data removed]",
      "text/plain": [
       "<Figure size 541x432 with 1 Axes>"
      ]
     },
     "metadata": {
      "needs_background": "light"
     },
     "output_type": "display_data"
    }
   ],
   "source": [
    "sns.catplot(data = Parking, x= 'parking spaces', y= 'total (R$)', kind = 'bar',\n",
    "           hue = 'city', ci= None,height=6,estimator=np.mean);\n",
    "pd.DataFrame(Parking.groupby(['parking spaces','city'])['total (R$)'].mean())"
   ]
  },
  {
   "cell_type": "markdown",
   "id": "bb30b454",
   "metadata": {},
   "source": [
    "### Sao paulo and Belo Horizonte city employees can relocate to other city as these two cities have higher Average Total as per Parking availability"
   ]
  },
  {
   "cell_type": "markdown",
   "id": "83fb2d49",
   "metadata": {},
   "source": [
    "# Analyse on the basis of animal"
   ]
  },
  {
   "cell_type": "code",
   "execution_count": 33,
   "id": "8a601db9",
   "metadata": {
    "scrolled": false
   },
   "outputs": [
    {
     "data": {
      "text/html": [
       "<div>\n",
       "<style scoped>\n",
       "    .dataframe tbody tr th:only-of-type {\n",
       "        vertical-align: middle;\n",
       "    }\n",
       "\n",
       "    .dataframe tbody tr th {\n",
       "        vertical-align: top;\n",
       "    }\n",
       "\n",
       "    .dataframe thead th {\n",
       "        text-align: right;\n",
       "    }\n",
       "</style>\n",
       "<table border=\"1\" class=\"dataframe\">\n",
       "  <thead>\n",
       "    <tr style=\"text-align: right;\">\n",
       "      <th></th>\n",
       "      <th></th>\n",
       "      <th>city</th>\n",
       "    </tr>\n",
       "    <tr>\n",
       "      <th>animal</th>\n",
       "      <th>city</th>\n",
       "      <th></th>\n",
       "    </tr>\n",
       "  </thead>\n",
       "  <tbody>\n",
       "    <tr>\n",
       "      <th rowspan=\"5\" valign=\"top\">acept</th>\n",
       "      <th>Belo Horizonte</th>\n",
       "      <td>931</td>\n",
       "    </tr>\n",
       "    <tr>\n",
       "      <th>Campinas</th>\n",
       "      <td>693</td>\n",
       "    </tr>\n",
       "    <tr>\n",
       "      <th>Porto Alegre</th>\n",
       "      <td>1005</td>\n",
       "    </tr>\n",
       "    <tr>\n",
       "      <th>Rio de Janeiro</th>\n",
       "      <td>1205</td>\n",
       "    </tr>\n",
       "    <tr>\n",
       "      <th>São Paulo</th>\n",
       "      <td>4482</td>\n",
       "    </tr>\n",
       "    <tr>\n",
       "      <th rowspan=\"5\" valign=\"top\">not acept</th>\n",
       "      <th>Belo Horizonte</th>\n",
       "      <td>327</td>\n",
       "    </tr>\n",
       "    <tr>\n",
       "      <th>Campinas</th>\n",
       "      <td>160</td>\n",
       "    </tr>\n",
       "    <tr>\n",
       "      <th>Porto Alegre</th>\n",
       "      <td>188</td>\n",
       "    </tr>\n",
       "    <tr>\n",
       "      <th>Rio de Janeiro</th>\n",
       "      <td>296</td>\n",
       "    </tr>\n",
       "    <tr>\n",
       "      <th>São Paulo</th>\n",
       "      <td>1405</td>\n",
       "    </tr>\n",
       "  </tbody>\n",
       "</table>\n",
       "</div>"
      ],
      "text/plain": [
       "                          city\n",
       "animal    city                \n",
       "acept     Belo Horizonte   931\n",
       "          Campinas         693\n",
       "          Porto Alegre    1005\n",
       "          Rio de Janeiro  1205\n",
       "          São Paulo       4482\n",
       "not acept Belo Horizonte   327\n",
       "          Campinas         160\n",
       "          Porto Alegre     188\n",
       "          Rio de Janeiro   296\n",
       "          São Paulo       1405"
      ]
     },
     "execution_count": 33,
     "metadata": {},
     "output_type": "execute_result"
    },
    {
     "data": {
      "image/png": "[encoded data removed]",
      "text/plain": [
       "<Figure size 576x576 with 1 Axes>"
      ]
     },
     "metadata": {
      "needs_background": "light"
     },
     "output_type": "display_data"
    }
   ],
   "source": [
    "fig,ax=plt.subplots(figsize=(8,8))\n",
    "sns.countplot(data=df,x='animal',hue='city')\n",
    "pd.DataFrame(df.groupby(['animal','city'])['city'].count())"
   ]
  },
  {
   "cell_type": "markdown",
   "id": "daf50f1d",
   "metadata": {},
   "source": [
    "## Availability of properties as per animals is in mojority in Sao Paulo"
   ]
  },
  {
   "cell_type": "markdown",
   "id": "446352a2",
   "metadata": {},
   "source": [
    "# Average Rate of Propery as per animal allowence by city"
   ]
  },
  {
   "cell_type": "code",
   "execution_count": 34,
   "id": "8e583703",
   "metadata": {},
   "outputs": [
    {
     "data": {
      "text/html": [
       "<div>\n",
       "<style scoped>\n",
       "    .dataframe tbody tr th:only-of-type {\n",
       "        vertical-align: middle;\n",
       "    }\n",
       "\n",
       "    .dataframe tbody tr th {\n",
       "        vertical-align: top;\n",
       "    }\n",
       "\n",
       "    .dataframe thead th {\n",
       "        text-align: right;\n",
       "    }\n",
       "</style>\n",
       "<table border=\"1\" class=\"dataframe\">\n",
       "  <thead>\n",
       "    <tr style=\"text-align: right;\">\n",
       "      <th></th>\n",
       "      <th></th>\n",
       "      <th>total (R$)</th>\n",
       "    </tr>\n",
       "    <tr>\n",
       "      <th>animal</th>\n",
       "      <th>city</th>\n",
       "      <th></th>\n",
       "    </tr>\n",
       "  </thead>\n",
       "  <tbody>\n",
       "    <tr>\n",
       "      <th rowspan=\"5\" valign=\"top\">acept</th>\n",
       "      <th>Belo Horizonte</th>\n",
       "      <td>4766.371643</td>\n",
       "    </tr>\n",
       "    <tr>\n",
       "      <th>Campinas</th>\n",
       "      <td>3298.347763</td>\n",
       "    </tr>\n",
       "    <tr>\n",
       "      <th>Porto Alegre</th>\n",
       "      <td>3016.991045</td>\n",
       "    </tr>\n",
       "    <tr>\n",
       "      <th>Rio de Janeiro</th>\n",
       "      <td>4675.456432</td>\n",
       "    </tr>\n",
       "    <tr>\n",
       "      <th>São Paulo</th>\n",
       "      <td>6636.829540</td>\n",
       "    </tr>\n",
       "    <tr>\n",
       "      <th rowspan=\"5\" valign=\"top\">not acept</th>\n",
       "      <th>Belo Horizonte</th>\n",
       "      <td>10725.024465</td>\n",
       "    </tr>\n",
       "    <tr>\n",
       "      <th>Campinas</th>\n",
       "      <td>2631.562500</td>\n",
       "    </tr>\n",
       "    <tr>\n",
       "      <th>Porto Alegre</th>\n",
       "      <td>2844.335106</td>\n",
       "    </tr>\n",
       "    <tr>\n",
       "      <th>Rio de Janeiro</th>\n",
       "      <td>4352.074324</td>\n",
       "    </tr>\n",
       "    <tr>\n",
       "      <th>São Paulo</th>\n",
       "      <td>5564.190036</td>\n",
       "    </tr>\n",
       "  </tbody>\n",
       "</table>\n",
       "</div>"
      ],
      "text/plain": [
       "                            total (R$)\n",
       "animal    city                        \n",
       "acept     Belo Horizonte   4766.371643\n",
       "          Campinas         3298.347763\n",
       "          Porto Alegre     3016.991045\n",
       "          Rio de Janeiro   4675.456432\n",
       "          São Paulo        6636.829540\n",
       "not acept Belo Horizonte  10725.024465\n",
       "          Campinas         2631.562500\n",
       "          Porto Alegre     2844.335106\n",
       "          Rio de Janeiro   4352.074324\n",
       "          São Paulo        5564.190036"
      ]
     },
     "execution_count": 34,
     "metadata": {},
     "output_type": "execute_result"
    },
    {
     "data": {
      "image/png": "[encoded data removed]",
      "text/plain": [
       "<Figure size 541x432 with 1 Axes>"
      ]
     },
     "metadata": {
      "needs_background": "light"
     },
     "output_type": "display_data"
    }
   ],
   "source": [
    "sns.catplot(data = df, x= 'animal', y= 'total (R$)', kind = 'bar',\n",
    "           hue = 'city', ci= None,height=6,estimator=np.mean);\n",
    "pd.DataFrame(df.groupby(['animal','city'])['total (R$)'].mean())"
   ]
  },
  {
   "cell_type": "markdown",
   "id": "8b9f1c02",
   "metadata": {},
   "source": [
    "### Sao paulo and Belo Horizonte city employees can relocate to other city as these two cities have higher Average Total"
   ]
  },
  {
   "cell_type": "markdown",
   "id": "9cd1c336",
   "metadata": {},
   "source": [
    "# Analyse on the Basis of Furiture"
   ]
  },
  {
   "cell_type": "code",
   "execution_count": 35,
   "id": "2cf3b37f",
   "metadata": {},
   "outputs": [
    {
     "data": {
      "text/html": [
       "<div>\n",
       "<style scoped>\n",
       "    .dataframe tbody tr th:only-of-type {\n",
       "        vertical-align: middle;\n",
       "    }\n",
       "\n",
       "    .dataframe tbody tr th {\n",
       "        vertical-align: top;\n",
       "    }\n",
       "\n",
       "    .dataframe thead th {\n",
       "        text-align: right;\n",
       "    }\n",
       "</style>\n",
       "<table border=\"1\" class=\"dataframe\">\n",
       "  <thead>\n",
       "    <tr style=\"text-align: right;\">\n",
       "      <th></th>\n",
       "      <th></th>\n",
       "      <th>city</th>\n",
       "    </tr>\n",
       "    <tr>\n",
       "      <th>furniture</th>\n",
       "      <th>city</th>\n",
       "      <th></th>\n",
       "    </tr>\n",
       "  </thead>\n",
       "  <tbody>\n",
       "    <tr>\n",
       "      <th rowspan=\"5\" valign=\"top\">furnished</th>\n",
       "      <th>Belo Horizonte</th>\n",
       "      <td>177</td>\n",
       "    </tr>\n",
       "    <tr>\n",
       "      <th>Campinas</th>\n",
       "      <td>111</td>\n",
       "    </tr>\n",
       "    <tr>\n",
       "      <th>Porto Alegre</th>\n",
       "      <td>319</td>\n",
       "    </tr>\n",
       "    <tr>\n",
       "      <th>Rio de Janeiro</th>\n",
       "      <td>406</td>\n",
       "    </tr>\n",
       "    <tr>\n",
       "      <th>São Paulo</th>\n",
       "      <td>1593</td>\n",
       "    </tr>\n",
       "    <tr>\n",
       "      <th rowspan=\"5\" valign=\"top\">not furnished</th>\n",
       "      <th>Belo Horizonte</th>\n",
       "      <td>1081</td>\n",
       "    </tr>\n",
       "    <tr>\n",
       "      <th>Campinas</th>\n",
       "      <td>742</td>\n",
       "    </tr>\n",
       "    <tr>\n",
       "      <th>Porto Alegre</th>\n",
       "      <td>874</td>\n",
       "    </tr>\n",
       "    <tr>\n",
       "      <th>Rio de Janeiro</th>\n",
       "      <td>1095</td>\n",
       "    </tr>\n",
       "    <tr>\n",
       "      <th>São Paulo</th>\n",
       "      <td>4294</td>\n",
       "    </tr>\n",
       "  </tbody>\n",
       "</table>\n",
       "</div>"
      ],
      "text/plain": [
       "                              city\n",
       "furniture     city                \n",
       "furnished     Belo Horizonte   177\n",
       "              Campinas         111\n",
       "              Porto Alegre     319\n",
       "              Rio de Janeiro   406\n",
       "              São Paulo       1593\n",
       "not furnished Belo Horizonte  1081\n",
       "              Campinas         742\n",
       "              Porto Alegre     874\n",
       "              Rio de Janeiro  1095\n",
       "              São Paulo       4294"
      ]
     },
     "execution_count": 35,
     "metadata": {},
     "output_type": "execute_result"
    },
    {
     "data": {
      "image/png": "[encoded data removed]",
      "text/plain": [
       "<Figure size 576x576 with 1 Axes>"
      ]
     },
     "metadata": {
      "needs_background": "light"
     },
     "output_type": "display_data"
    }
   ],
   "source": [
    "fig,ax=plt.subplots(figsize=(8,8))\n",
    "sns.countplot(data=df,x='furniture',hue='city')\n",
    "pd.DataFrame(df.groupby(['furniture','city'])['city'].count())"
   ]
  },
  {
   "cell_type": "markdown",
   "id": "0224cc98",
   "metadata": {},
   "source": [
    "## As per furnished availability Sao paulo have properties in majority"
   ]
  },
  {
   "cell_type": "code",
   "execution_count": 36,
   "id": "3a03f6cd",
   "metadata": {},
   "outputs": [
    {
     "data": {
      "text/html": [
       "<div>\n",
       "<style scoped>\n",
       "    .dataframe tbody tr th:only-of-type {\n",
       "        vertical-align: middle;\n",
       "    }\n",
       "\n",
       "    .dataframe tbody tr th {\n",
       "        vertical-align: top;\n",
       "    }\n",
       "\n",
       "    .dataframe thead th {\n",
       "        text-align: right;\n",
       "    }\n",
       "</style>\n",
       "<table border=\"1\" class=\"dataframe\">\n",
       "  <thead>\n",
       "    <tr style=\"text-align: right;\">\n",
       "      <th></th>\n",
       "      <th></th>\n",
       "      <th>total (R$)</th>\n",
       "    </tr>\n",
       "    <tr>\n",
       "      <th>furniture</th>\n",
       "      <th>city</th>\n",
       "      <th></th>\n",
       "    </tr>\n",
       "  </thead>\n",
       "  <tbody>\n",
       "    <tr>\n",
       "      <th rowspan=\"5\" valign=\"top\">furnished</th>\n",
       "      <th>Belo Horizonte</th>\n",
       "      <td>6024.372881</td>\n",
       "    </tr>\n",
       "    <tr>\n",
       "      <th>Campinas</th>\n",
       "      <td>3808.918919</td>\n",
       "    </tr>\n",
       "    <tr>\n",
       "      <th>Porto Alegre</th>\n",
       "      <td>3818.605016</td>\n",
       "    </tr>\n",
       "    <tr>\n",
       "      <th>Rio de Janeiro</th>\n",
       "      <td>6009.556650</td>\n",
       "    </tr>\n",
       "    <tr>\n",
       "      <th>São Paulo</th>\n",
       "      <td>7545.463905</td>\n",
       "    </tr>\n",
       "    <tr>\n",
       "      <th rowspan=\"5\" valign=\"top\">not furnished</th>\n",
       "      <th>Belo Horizonte</th>\n",
       "      <td>6362.868640</td>\n",
       "    </tr>\n",
       "    <tr>\n",
       "      <th>Campinas</th>\n",
       "      <td>3078.187332</td>\n",
       "    </tr>\n",
       "    <tr>\n",
       "      <th>Porto Alegre</th>\n",
       "      <td>2687.272311</td>\n",
       "    </tr>\n",
       "    <tr>\n",
       "      <th>Rio de Janeiro</th>\n",
       "      <td>4093.387215</td>\n",
       "    </tr>\n",
       "    <tr>\n",
       "      <th>São Paulo</th>\n",
       "      <td>5948.773405</td>\n",
       "    </tr>\n",
       "  </tbody>\n",
       "</table>\n",
       "</div>"
      ],
      "text/plain": [
       "                               total (R$)\n",
       "furniture     city                       \n",
       "furnished     Belo Horizonte  6024.372881\n",
       "              Campinas        3808.918919\n",
       "              Porto Alegre    3818.605016\n",
       "              Rio de Janeiro  6009.556650\n",
       "              São Paulo       7545.463905\n",
       "not furnished Belo Horizonte  6362.868640\n",
       "              Campinas        3078.187332\n",
       "              Porto Alegre    2687.272311\n",
       "              Rio de Janeiro  4093.387215\n",
       "              São Paulo       5948.773405"
      ]
     },
     "execution_count": 36,
     "metadata": {},
     "output_type": "execute_result"
    },
    {
     "data": {
      "image/png": "[encoded data removed]",
      "text/plain": [
       "<Figure size 541x432 with 1 Axes>"
      ]
     },
     "metadata": {
      "needs_background": "light"
     },
     "output_type": "display_data"
    }
   ],
   "source": [
    "sns.catplot(data = df, x= 'furniture', y= 'total (R$)', kind = 'bar',\n",
    "           hue = 'city', ci= None,height=6,estimator=np.mean);\n",
    "pd.DataFrame(df.groupby(['furniture','city'])['total (R$)'].mean())"
   ]
  },
  {
   "cell_type": "markdown",
   "id": "524d4a36",
   "metadata": {},
   "source": [
    "### Sao paulo and Belo Horizonte city employees can relocate to other city as these two cities have higher Average Total as per Furniture availability"
   ]
  },
  {
   "cell_type": "markdown",
   "id": "14e2fb3a",
   "metadata": {},
   "source": [
    "# Recommendations"
   ]
  },
  {
   "cell_type": "markdown",
   "id": "b00582a7",
   "metadata": {},
   "source": [
    "### For Small families Porto Aegra is the cheapest city on the basis of Area\n",
    "### Porto Alegra and Champions city have cheapest furnished property and Porto Alegra Have cheapest non furnished property"
   ]
  },
  {
   "cell_type": "markdown",
   "id": "c1b85b81",
   "metadata": {},
   "source": [
    "### Porto Alegra have cheapest price accepts pet while Champions city have cheapest price not accepts price"
   ]
  },
  {
   "cell_type": "markdown",
   "id": "68f1b305",
   "metadata": {},
   "source": [
    "### Porto Alegra have cheapest price of property having 0 and 1 parking areas for small families"
   ]
  },
  {
   "cell_type": "markdown",
   "id": "a1216275",
   "metadata": {},
   "source": [
    "### As per floors 0,1,2 Porto Alegra and Champions city is cheapest"
   ]
  },
  {
   "cell_type": "markdown",
   "id": "a0cb6ae0",
   "metadata": {},
   "source": [
    "### As per availability of bathrooms Horizonte city is cheapest"
   ]
  },
  {
   "cell_type": "markdown",
   "id": "095a83fc",
   "metadata": {},
   "source": [
    "### As per Room Availability horizonte and champions city are cheapest"
   ]
  },
  {
   "cell_type": "code",
   "execution_count": null,
   "id": "47071664",
   "metadata": {},
   "outputs": [],
   "source": []
  }
 ],
 "metadata": {
  "kernelspec": {
   "display_name": "Python 3 (ipykernel)",
   "language": "python",
   "name": "python3"
  },
  "language_info": {
   "codemirror_mode": {
    "name": "ipython",
    "version": 3
   },
   "file_extension": ".py",
   "mimetype": "text/x-python",
   "name": "python",
   "nbconvert_exporter": "python",
   "pygments_lexer": "ipython3",
   "version": "3.9.12"
  }
 },
 "nbformat": 4,
 "nbformat_minor": 5
}
